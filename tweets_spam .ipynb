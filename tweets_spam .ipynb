{
  "nbformat": 4,
  "nbformat_minor": 0,
  "metadata": {
    "colab": {
      "name": "tweets_spam.ipynb",
      "provenance": [],
      "collapsed_sections": []
    },
    "kernelspec": {
      "name": "python3",
      "display_name": "Python 3"
    },
    "language_info": {
      "name": "python"
    },
    "accelerator": "TPU"
  },
  "cells": [
    {
      "cell_type": "markdown",
      "source": [
        "# Handling The Missing Cells In Dataset\n",
        "\n",
        "# Central Tendencies:\n",
        "* mean\n",
        "* median\n",
        "* mode\n",
        "\n",
        "and to manipulate the missing data there are two ways:\n",
        "* Imputation\n",
        "* Dropping\n"
      ],
      "metadata": {
        "id": "IJYsuaGmMjJz"
      }
    },
    {
      "cell_type": "code",
      "execution_count": null,
      "metadata": {
        "id": "OFYkWTDbJv9M",
        "colab": {
          "base_uri": "https://localhost:8080/"
        },
        "outputId": "8d083eee-1dbb-468c-ed96-661251256cae"
      },
      "outputs": [
        {
          "output_type": "stream",
          "name": "stdout",
          "text": [
            "Requirement already satisfied: yellowbrick in /usr/local/lib/python3.7/dist-packages (1.3.post1)\n",
            "Requirement already satisfied: scipy>=1.0.0 in /usr/local/lib/python3.7/dist-packages (from yellowbrick) (1.4.1)\n",
            "Requirement already satisfied: scikit-learn>=0.20 in /usr/local/lib/python3.7/dist-packages (from yellowbrick) (1.0.2)\n",
            "Requirement already satisfied: numpy<1.20,>=1.16.0 in /usr/local/lib/python3.7/dist-packages (from yellowbrick) (1.19.5)\n",
            "Requirement already satisfied: matplotlib!=3.0.0,>=2.0.2 in /usr/local/lib/python3.7/dist-packages (from yellowbrick) (3.2.2)\n",
            "Requirement already satisfied: cycler>=0.10.0 in /usr/local/lib/python3.7/dist-packages (from yellowbrick) (0.11.0)\n",
            "Requirement already satisfied: kiwisolver>=1.0.1 in /usr/local/lib/python3.7/dist-packages (from matplotlib!=3.0.0,>=2.0.2->yellowbrick) (1.3.2)\n",
            "Requirement already satisfied: python-dateutil>=2.1 in /usr/local/lib/python3.7/dist-packages (from matplotlib!=3.0.0,>=2.0.2->yellowbrick) (2.8.2)\n",
            "Requirement already satisfied: pyparsing!=2.0.4,!=2.1.2,!=2.1.6,>=2.0.1 in /usr/local/lib/python3.7/dist-packages (from matplotlib!=3.0.0,>=2.0.2->yellowbrick) (3.0.7)\n",
            "Requirement already satisfied: six>=1.5 in /usr/local/lib/python3.7/dist-packages (from python-dateutil>=2.1->matplotlib!=3.0.0,>=2.0.2->yellowbrick) (1.15.0)\n",
            "Requirement already satisfied: threadpoolctl>=2.0.0 in /usr/local/lib/python3.7/dist-packages (from scikit-learn>=0.20->yellowbrick) (3.1.0)\n",
            "Requirement already satisfied: joblib>=0.11 in /usr/local/lib/python3.7/dist-packages (from scikit-learn>=0.20->yellowbrick) (1.1.0)\n"
          ]
        }
      ],
      "source": [
        "# import the dependencies\n",
        "import re\n",
        "import nltk\n",
        "import numpy as np\n",
        "import pandas as pd\n",
        "import seaborn as sns\n",
        "import matplotlib.pyplot as plt\n",
        "\n",
        "from nltk.corpus import stopwords\n",
        "\n",
        "#importing all types of stemmers.\n",
        "from nltk.stem import RegexpStemmer\n",
        "from nltk.stem import PorterStemmer \n",
        "from nltk.stem import SnowballStemmer\n",
        "from nltk.stem import LancasterStemmer\n",
        "\n",
        "from sklearn.preprocessing import LabelEncoder\n",
        "from sklearn.preprocessing import StandardScaler\n",
        "from sklearn.datasets import make_classification\n",
        "from sklearn.model_selection import train_test_split\n",
        "from sklearn.feature_extraction.text import TfidfVectorizer, CountVectorizer\n",
        "from sklearn.metrics import confusion_matrix, accuracy_score, plot_confusion_matrix\n",
        "\n",
        "# import the classifiers\n",
        "import tensorflow as tf\n",
        "from sklearn.svm import SVC\n",
        "from sklearn.impute import SimpleImputer\n",
        "from sklearn.naive_bayes import GaussianNB\n",
        "from sklearn.naive_bayes import BernoulliNB\n",
        "from sklearn.ensemble import RandomForestClassifier\n",
        "from sklearn.linear_model import LogisticRegression\n",
        "\n",
        "!pip install yellowbrick\n",
        "from yellowbrick.text import FreqDistVisualizer"
      ]
    },
    {
      "cell_type": "code",
      "source": [
        "# loading data set to pandas data frame DS.\n",
        "dataset = pd.read_csv('/content/train.csv')\n",
        "# reorder columns.\n",
        "dataset = dataset[['Id', 'following', 'followers', 'actions', 'is_retweet', 'Tweet', 'location', 'Type']]\n",
        "# download the set of stopwords.\n",
        "nltk.download('stopwords')\n",
        "# len(dataset['Tweet'].unique())"
      ],
      "metadata": {
        "id": "829F1bs2XRhb",
        "colab": {
          "base_uri": "https://localhost:8080/"
        },
        "outputId": "eb581ff8-0f5b-4514-e0bc-74cc05ff8ecd"
      },
      "execution_count": null,
      "outputs": [
        {
          "output_type": "stream",
          "name": "stdout",
          "text": [
            "[nltk_data] Downloading package stopwords to /root/nltk_data...\n",
            "[nltk_data]   Unzipping corpora/stopwords.zip.\n"
          ]
        },
        {
          "output_type": "execute_result",
          "data": {
            "text/plain": [
              "True"
            ]
          },
          "metadata": {},
          "execution_count": 11
        }
      ]
    },
    {
      "cell_type": "code",
      "source": [
        "# Imputation method\n",
        "edited_dataset = pd.read_csv('/content/train.csv')\n",
        "edited_dataset = edited_dataset[['Id', 'following', 'followers', 'actions', 'is_retweet', 'Tweet', 'location', 'Type']]\n",
        "edited_dataset = edited_dataset.drop(columns=['location'])\n",
        "edited_dataset['following'].fillna(edited_dataset['following'].median(), inplace=True)\n",
        "edited_dataset['followers'].fillna(edited_dataset['followers'].median(), inplace=True)\n",
        "edited_dataset['actions'].fillna(edited_dataset['actions'].median(), inplace=True)\n",
        "edited_dataset['is_retweet'].fillna(edited_dataset['is_retweet'].median(), inplace=True)\n",
        "# edited_dataset['location'].fillna(edited_dataset['location'].mode(), inplace=True)"
      ],
      "metadata": {
        "id": "Azh48HlCk5JI"
      },
      "execution_count": null,
      "outputs": []
    },
    {
      "cell_type": "code",
      "source": [
        "# Dropping method\n",
        "cleaned_dataset = pd.read_csv('/content/train.csv')\n",
        "cleaned_dataset = cleaned_dataset[['Id', 'following', 'followers', 'actions', 'is_retweet', 'Tweet', 'location', 'Type']]\n",
        "cleaned_dataset = cleaned_dataset.drop(columns=['location'])\n",
        "cleaned_dataset = cleaned_dataset.dropna(how='any')"
      ],
      "metadata": {
        "id": "a4TNNrQCNiJw"
      },
      "execution_count": null,
      "outputs": []
    },
    {
      "cell_type": "code",
      "source": [
        "# group the null values by the columns.\n",
        "print(dataset.isnull().sum(), \"\\n\")\n",
        "print(edited_dataset.isnull().sum(), \"\\n\")\n",
        "print(cleaned_dataset.isnull().sum())"
      ],
      "metadata": {
        "id": "zkAdW-exMSze",
        "colab": {
          "base_uri": "https://localhost:8080/"
        },
        "outputId": "30e7b574-fc60-4449-8312-791b6ef88b4a"
      },
      "execution_count": null,
      "outputs": [
        {
          "output_type": "stream",
          "name": "stdout",
          "text": [
            "Id               0\n",
            "following      145\n",
            "followers       16\n",
            "actions       2773\n",
            "is_retweet       1\n",
            "Tweet            0\n",
            "location      1651\n",
            "Type             0\n",
            "dtype: int64 \n",
            "\n",
            "Id            0\n",
            "following     0\n",
            "followers     0\n",
            "actions       0\n",
            "is_retweet    0\n",
            "Tweet         0\n",
            "Type          0\n",
            "dtype: int64 \n",
            "\n",
            "Id            0\n",
            "following     0\n",
            "followers     0\n",
            "actions       0\n",
            "is_retweet    0\n",
            "Tweet         0\n",
            "Type          0\n",
            "dtype: int64\n"
          ]
        }
      ]
    },
    {
      "cell_type": "markdown",
      "source": [
        "# Label Encoding and Data Sipliting"
      ],
      "metadata": {
        "id": "SCCztiokBHI3"
      }
    },
    {
      "cell_type": "code",
      "source": [
        "# tranform the label set to numeric values.\n",
        "label_encoder = LabelEncoder()\n",
        "cleaned_dataset['Type'] = label_encoder.fit_transform(cleaned_dataset.Type)\n",
        "edited_dataset['Type'] = label_encoder.fit_transform(edited_dataset.Type)\n",
        "\n",
        "# sipliting the dataset into data and labels.\n",
        "cleaned_x = cleaned_dataset.drop(columns=['Type'])\n",
        "cleaned_y = cleaned_dataset['Type']\n",
        "\n",
        "edited_x = edited_dataset.drop(columns=['Type'])\n",
        "edited_y = edited_dataset['Type']\n",
        "\n",
        "# sipliting dataset into training data and testing data.\n",
        "edited_x_train, edited_x_test, edited_y_train, edited_y_test = train_test_split(edited_x, edited_y, test_size=0.2, random_state=3)\n",
        "cleaned_x_train, cleaned_x_test, cleaned_y_train, cleaned_y_test = train_test_split(cleaned_x, cleaned_y, test_size=0.2, random_state=3)\n",
        "\n",
        "print(cleaned_y.value_counts())\n",
        "print(edited_y.value_counts())"
      ],
      "metadata": {
        "id": "LB21eFmfBN2l",
        "colab": {
          "base_uri": "https://localhost:8080/"
        },
        "outputId": "69acfab2-51b6-4aa5-f0b6-bb2e9aa2316d"
      },
      "execution_count": null,
      "outputs": [
        {
          "output_type": "stream",
          "name": "stdout",
          "text": [
            "1    5815\n",
            "0    3269\n",
            "Name: Type, dtype: int64\n",
            "0    6153\n",
            "1    5815\n",
            "Name: Type, dtype: int64\n"
          ]
        }
      ]
    },
    {
      "cell_type": "markdown",
      "source": [
        "# Standardize Data"
      ],
      "metadata": {
        "id": "iOxYmFZsSQSv"
      }
    },
    {
      "cell_type": "code",
      "source": [
        "# standardize the numerical data.\n",
        "scaler = StandardScaler().fit(edited_x_train.iloc[:, 1:5])\n",
        "edited_x_train.iloc[:, 1:5] = scaler.transform(edited_x_train.iloc[:, 1:5])\n",
        "edited_x_test.iloc[:, 1:5] = scaler.transform(edited_x_test.iloc[:, 1:5])\n",
        "\n",
        "scaler2 = StandardScaler().fit(cleaned_x_train.iloc[:, 1:5])\n",
        "cleaned_x_train.iloc[:, 1:5] = scaler2.transform(cleaned_x_train.iloc[:, 1:5])\n",
        "cleaned_x_test.iloc[:, 1:5] = scaler2.transform(cleaned_x_test.iloc[:, 1:5])"
      ],
      "metadata": {
        "id": "N_qH2jiIzCfA"
      },
      "execution_count": null,
      "outputs": []
    },
    {
      "cell_type": "code",
      "source": [
        "print(edited_x_train.std())\n",
        "print(cleaned_x_train.std())"
      ],
      "metadata": {
        "id": "yFIbDiN5QrXb",
        "colab": {
          "base_uri": "https://localhost:8080/"
        },
        "outputId": "0ccf7038-8dcc-43ab-cee5-96c2118aca97"
      },
      "execution_count": null,
      "outputs": [
        {
          "output_type": "stream",
          "name": "stdout",
          "text": [
            "Id            3634.622256\n",
            "following        1.000052\n",
            "followers        1.000052\n",
            "actions          1.000052\n",
            "is_retweet       1.000052\n",
            "dtype: float64\n",
            "Id            3634.346708\n",
            "following        1.000069\n",
            "followers        1.000069\n",
            "actions          1.000069\n",
            "is_retweet       1.000069\n",
            "dtype: float64\n"
          ]
        },
        {
          "output_type": "stream",
          "name": "stderr",
          "text": [
            "/usr/local/lib/python3.7/dist-packages/ipykernel_launcher.py:1: FutureWarning: Dropping of nuisance columns in DataFrame reductions (with 'numeric_only=None') is deprecated; in a future version this will raise TypeError.  Select only valid columns before calling the reduction.\n",
            "  \"\"\"Entry point for launching an IPython kernel.\n",
            "/usr/local/lib/python3.7/dist-packages/ipykernel_launcher.py:2: FutureWarning: Dropping of nuisance columns in DataFrame reductions (with 'numeric_only=None') is deprecated; in a future version this will raise TypeError.  Select only valid columns before calling the reduction.\n",
            "  \n"
          ]
        }
      ]
    },
    {
      "cell_type": "code",
      "source": [
        "# handle imbalanced data.\n",
        "normal_tweets = cleaned_dataset[cleaned_dataset.Type == 0]\n",
        "spam_tweets = cleaned_dataset[cleaned_dataset.Type == 1]\n",
        "balanced_datset = pd.concat([normal_tweets, spam_tweets.sample(len(normal_tweets))], axis = 0)"
      ],
      "metadata": {
        "id": "E3gLGVZVzkpi"
      },
      "execution_count": null,
      "outputs": []
    },
    {
      "cell_type": "code",
      "source": [
        "# apply stemming and removing the non alphabetical chars and URLs from text.\n",
        "#  References:\n",
        "#   [*] https://stackoverflow.com/questions/11331982/how-to-remove-any-url-within-a-string-in-python/11332580\n",
        "#   [*] https://stackoverflow.com/questions/1276764/stripping-everything-but-alphanumeric-chars-from-a-string-in-python\n",
        "\n",
        "porter_stemmer = PorterStemmer()\n",
        "lancaster_stemmer = LancasterStemmer()\n",
        "snowball_stemmer = SnowballStemmer(language='english')\n",
        "regexp_stemmer = RegexpStemmer('ing$|s$|e$|able$', min=4)\n",
        "\n",
        "def stemming(content):\n",
        "  stemmed_content = re.sub(r'^https?:\\/\\/.*[\\r\\n]*', '',  content, flags=re.MULTILINE)  # remove URL.\n",
        "  stemmed_content = re.sub('http', '', content)  \n",
        "  stemmed_content = re.sub('www', '', content)\n",
        "  stemmed_content = re.sub('com', '', content)\n",
        "  stemmed_content = re.sub('[^a-zA-Z]', ' ', content)  # remove non alphabetical chars.\n",
        "  stemmed_content = stemmed_content.lower()\n",
        "  stemmed_content = stemmed_content.split()\n",
        "  stemmed_content = [regexp_stemmer.stem(word) for word in stemmed_content if len(word) > 2 and not word in stopwords.words('english')]\n",
        "  stemmed_content = ' '.join(stemmed_content)\n",
        "  return stemmed_content"
      ],
      "metadata": {
        "id": "QTWCYdn_Xcx4"
      },
      "execution_count": null,
      "outputs": []
    },
    {
      "cell_type": "code",
      "source": [
        "# apply stemming.\n",
        "balanced_datset['Tweet'] = balanced_datset['Tweet'].apply(stemming)\n",
        "# to drop labels from x => x = dataset.drop(columns=['label'])"
      ],
      "metadata": {
        "id": "SmVq7qqRLJzG"
      },
      "execution_count": null,
      "outputs": []
    },
    {
      "cell_type": "code",
      "source": [
        "x = balanced_datset['Tweet'].values\n",
        "y = balanced_datset['Type'].values\n",
        "\n",
        "# converting the textual data to feature vectors\n",
        "vectorizer = TfidfVectorizer()\n",
        "x = vectorizer.fit_transform(x)\n",
        "\n",
        "x_train, x_test, y_train, y_test = train_test_split(x, y, test_size=0.2, random_state=0)"
      ],
      "metadata": {
        "id": "2bYrQh4Wp29O"
      },
      "execution_count": null,
      "outputs": []
    },
    {
      "cell_type": "code",
      "source": [
        "classifier = LogisticRegression()\n",
        "classifier.fit(x_train, y_train)\n",
        "spam_prediction_LR = classifier.predict(x_test)\n",
        "plot_confusion_matrix(classifier, x_test, y_test)\n",
        "plt.show()"
      ],
      "metadata": {
        "id": "fSAXhFBz2Ipi",
        "colab": {
          "base_uri": "https://localhost:8080/",
          "height": 417
        },
        "outputId": "b2bcb707-0536-435f-b5a5-89fab9060b6f"
      },
      "execution_count": null,
      "outputs": [
        {
          "output_type": "stream",
          "name": "stderr",
          "text": [
            "/usr/local/lib/python3.7/dist-packages/sklearn/utils/deprecation.py:87: FutureWarning: Function plot_confusion_matrix is deprecated; Function `plot_confusion_matrix` is deprecated in 1.0 and will be removed in 1.2. Use one of the class methods: ConfusionMatrixDisplay.from_predictions or ConfusionMatrixDisplay.from_estimator.\n",
            "  warnings.warn(msg, category=FutureWarning)\n"
          ]
        },
        {
          "output_type": "display_data",
          "data": {
            "image/png": "[encoded data removed]",
            "text/plain": [
              "<Figure size 576x396 with 2 Axes>"
            ]
          },
          "metadata": {}
        }
      ]
    },
    {
      "cell_type": "code",
      "source": [
        "classifier = BernoulliNB()\n",
        "classifier.fit(x_train.toarray(), y_train)\n",
        "spam_prediction_GNB = classifier.predict(x_test.toarray())\n"
      ],
      "metadata": {
        "id": "pCodZTqMzMFg"
      },
      "execution_count": null,
      "outputs": []
    },
    {
      "cell_type": "code",
      "source": [
        "classifier = RandomForestClassifier(n_estimators=10, criterion='entropy', random_state=0)\n",
        "classifier.fit(x_train, y_train)\n",
        "spam_prediction_RF = classifier.predict(x_test)\n",
        "plot_confusion_matrix(classifier, x_test, y_test)\n",
        "plt.show()"
      ],
      "metadata": {
        "id": "xbSg2xIJy5-i",
        "colab": {
          "base_uri": "https://localhost:8080/",
          "height": 422
        },
        "outputId": "31146d0c-5f68-4222-df20-97a9627dd9d2"
      },
      "execution_count": null,
      "outputs": [
        {
          "output_type": "stream",
          "name": "stderr",
          "text": [
            "/usr/local/lib/python3.7/dist-packages/sklearn/utils/deprecation.py:87: FutureWarning: Function plot_confusion_matrix is deprecated; Function `plot_confusion_matrix` is deprecated in 1.0 and will be removed in 1.2. Use one of the class methods: ConfusionMatrixDisplay.from_predictions or ConfusionMatrixDisplay.from_estimator.\n",
            "  warnings.warn(msg, category=FutureWarning)\n"
          ]
        },
        {
          "output_type": "display_data",
          "data": {
            "image/png": "[encoded data removed]",
            "text/plain": [
              "<Figure size 576x396 with 2 Axes>"
            ]
          },
          "metadata": {}
        }
      ]
    },
    {
      "cell_type": "code",
      "source": [
        "classifier = SVC(kernel='linear', random_state=0)\n",
        "classifier.fit(x_train, y_train)\n",
        "plot_confusion_matrix(classifier, x_test, y_test)\n",
        "plt.show()\n",
        "spam_prediction_SVC = classifier.predict(x_test)"
      ],
      "metadata": {
        "id": "Tzgn17pzy_O5",
        "colab": {
          "base_uri": "https://localhost:8080/",
          "height": 419
        },
        "outputId": "72c49a58-6c9f-428a-e482-7810f32cbf90"
      },
      "execution_count": null,
      "outputs": [
        {
          "output_type": "stream",
          "name": "stderr",
          "text": [
            "/usr/local/lib/python3.7/dist-packages/sklearn/utils/deprecation.py:87: FutureWarning: Function plot_confusion_matrix is deprecated; Function `plot_confusion_matrix` is deprecated in 1.0 and will be removed in 1.2. Use one of the class methods: ConfusionMatrixDisplay.from_predictions or ConfusionMatrixDisplay.from_estimator.\n",
            "  warnings.warn(msg, category=FutureWarning)\n"
          ]
        },
        {
          "output_type": "display_data",
          "data": {
            "image/png": "[encoded data removed]",
            "text/plain": [
              "<Figure size 576x396 with 2 Axes>"
            ]
          },
          "metadata": {}
        }
      ]
    },
    {
      "cell_type": "code",
      "source": [
        "# Neural Network.\n",
        "# Initializing the ANN.\n",
        "ann = tf.keras.models.Sequential()\n",
        "\n",
        "# Adding the input layer.\n",
        "ann.add(tf.keras.layers.Dense(units=6, activation='sigmoid'))\n",
        "\n",
        "# Adding the hidden layer.\n",
        "ann.add(tf.keras.layers.Dense(units=160, activation='sigmoid'))\n",
        "\n",
        "# Adding the output layer.\n",
        "ann.add(tf.keras.layers.Dense(units=1, activation='sigmoid'))\n",
        "\n",
        "# Compiling the ANN.\n",
        "ann.compile(optimizer='adam', loss='binary_crossentropy', metrics=['accuracy'])\n",
        "\n",
        "# Training the ANN on the Training set.\n",
        "ann.fit(x_train, y_train, batch_size=32, epochs=10)\n",
        "\n",
        "# Testing the ANN on the testing set.\n",
        "spam_prediction_ANN = ann.predict(x_test)\n",
        "spam_prediction_ANN = (spam_prediction_ANN > 0.5)\n"
      ],
      "metadata": {
        "id": "4AuqqqBZy2bz",
        "colab": {
          "base_uri": "https://localhost:8080/"
        },
        "outputId": "e180428b-5948-4c42-cc1a-c18ddf9a049f"
      },
      "execution_count": null,
      "outputs": [
        {
          "output_type": "stream",
          "name": "stdout",
          "text": [
            "Epoch 1/10\n"
          ]
        },
        {
          "output_type": "stream",
          "name": "stderr",
          "text": [
            "/usr/local/lib/python3.7/dist-packages/tensorflow/python/framework/indexed_slices.py:446: UserWarning: Converting sparse IndexedSlices(IndexedSlices(indices=Tensor(\"gradient_tape/sequential/dense/embedding_lookup_sparse/Reshape_1:0\", shape=(None,), dtype=int32), values=Tensor(\"gradient_tape/sequential/dense/embedding_lookup_sparse/Reshape:0\", shape=(None, 6), dtype=float32), dense_shape=Tensor(\"gradient_tape/sequential/dense/embedding_lookup_sparse/Cast:0\", shape=(2,), dtype=int32))) to a dense Tensor of unknown shape. This may consume a large amount of memory.\n",
            "  \"shape. This may consume a large amount of memory.\" % value)\n"
          ]
        },
        {
          "output_type": "stream",
          "name": "stdout",
          "text": [
            "164/164 [==============================] - 4s 7ms/step - loss: 0.6952 - accuracy: 0.5128\n",
            "Epoch 2/10\n",
            "164/164 [==============================] - 1s 8ms/step - loss: 0.6862 - accuracy: 0.5564\n",
            "Epoch 3/10\n",
            "164/164 [==============================] - 1s 8ms/step - loss: 0.6581 - accuracy: 0.6912\n",
            "Epoch 4/10\n",
            "164/164 [==============================] - 1s 9ms/step - loss: 0.5645 - accuracy: 0.9220\n",
            "Epoch 5/10\n",
            "164/164 [==============================] - 2s 10ms/step - loss: 0.4020 - accuracy: 0.9505\n",
            "Epoch 6/10\n",
            "164/164 [==============================] - 2s 10ms/step - loss: 0.2487 - accuracy: 0.9663\n",
            "Epoch 7/10\n",
            "164/164 [==============================] - 1s 9ms/step - loss: 0.1593 - accuracy: 0.9730\n",
            "Epoch 8/10\n",
            "164/164 [==============================] - 1s 8ms/step - loss: 0.1096 - accuracy: 0.9826\n",
            "Epoch 9/10\n",
            "164/164 [==============================] - 1s 8ms/step - loss: 0.0796 - accuracy: 0.9870\n",
            "Epoch 10/10\n",
            "164/164 [==============================] - 2s 9ms/step - loss: 0.0596 - accuracy: 0.9916\n"
          ]
        }
      ]
    },
    {
      "cell_type": "code",
      "source": [
        "def print_confusion_matrix(y_test, spam_prediction, string):\n",
        "    cm = confusion_matrix(y_test, spam_prediction)\n",
        "    tp = cm[0][0]\n",
        "    fp = cm[0][1]\n",
        "    fn = cm[1][0]\n",
        "    tn = cm[1][1]\n",
        "    pr = tp / (tp + fp)\n",
        "    rec = tp / (tp + fn)\n",
        "    print(\"========= The Confusion Matrix of\", string, \"========\")\n",
        "    print(\"           True Positive  =\", tp)\n",
        "    print(\"           False Positive =\", fp)\n",
        "    print(\"           False Negative =\", fn)\n",
        "    print(\"           True Negative  =\", tn)\n",
        "    print(\"           Precision =\", round(pr * 100, 3))\n",
        "    print(\"           Recall    =\", round(rec * 100, 3))\n",
        "    print(\"           F1-score  =\", round((2 * pr * rec) / (pr + rec) * 100, 3))\n",
        "    print(\"           Accuracy  =\", round(accuracy_score(y_test, spam_prediction) * 100, 3))\n",
        "    print(\"==============================================\")\n",
        "print_confusion_matrix(y_test, spam_prediction_LR, \"LR\")\n",
        "print_confusion_matrix(y_test, spam_prediction_GNB, \"GNB\")\n",
        "print_confusion_matrix(y_test, spam_prediction_RF, \"RF\")\n",
        "print_confusion_matrix(y_test, spam_prediction_SVC, \"SVC\")\n",
        "print_confusion_matrix(y_test, spam_prediction_ANN, \"ANN\")\n",
        "\n",
        "\n"
      ],
      "metadata": {
        "id": "LeG6wEbcqjYU",
        "colab": {
          "base_uri": "https://localhost:8080/"
        },
        "outputId": "96e25cca-694f-4329-ff32-2bdae0d0c970"
      },
      "execution_count": null,
      "outputs": [
        {
          "output_type": "stream",
          "name": "stdout",
          "text": [
            "========= The Confusion Matrix of LR ========\n",
            "           True Positive  = 561\n",
            "           False Positive = 89\n",
            "           False Negative = 44\n",
            "           True Negative  = 614\n",
            "           Precision = 86.308\n",
            "           Recall    = 92.727\n",
            "           F1-score  = 89.402\n",
            "           Accuracy  = 89.832\n",
            "==============================================\n",
            "========= The Confusion Matrix of GNB ========\n",
            "           True Positive  = 576\n",
            "           False Positive = 74\n",
            "           False Negative = 68\n",
            "           True Negative  = 590\n",
            "           Precision = 88.615\n",
            "           Recall    = 89.441\n",
            "           F1-score  = 89.026\n",
            "           Accuracy  = 89.144\n",
            "==============================================\n",
            "========= The Confusion Matrix of RF ========\n",
            "           True Positive  = 600\n",
            "           False Positive = 50\n",
            "           False Negative = 96\n",
            "           True Negative  = 562\n",
            "           Precision = 92.308\n",
            "           Recall    = 86.207\n",
            "           F1-score  = 89.153\n",
            "           Accuracy  = 88.838\n",
            "==============================================\n",
            "========= The Confusion Matrix of SVC ========\n",
            "           True Positive  = 580\n",
            "           False Positive = 70\n",
            "           False Negative = 55\n",
            "           True Negative  = 603\n",
            "           Precision = 89.231\n",
            "           Recall    = 91.339\n",
            "           F1-score  = 90.272\n",
            "           Accuracy  = 90.443\n",
            "==============================================\n",
            "========= The Confusion Matrix of ANN ========\n",
            "           True Positive  = 577\n",
            "           False Positive = 73\n",
            "           False Negative = 55\n",
            "           True Negative  = 603\n",
            "           Precision = 88.769\n",
            "           Recall    = 91.297\n",
            "           F1-score  = 90.016\n",
            "           Accuracy  = 90.214\n",
            "==============================================\n"
          ]
        }
      ]
    },
    {
      "cell_type": "code",
      "source": [
        ""
      ],
      "metadata": {
        "id": "oKAtW-Er5KfG"
      },
      "execution_count": null,
      "outputs": []
    }
  ]
}